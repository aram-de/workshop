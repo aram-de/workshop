{
 "cells": [
  {
   "cell_type": "code",
   "execution_count": 5,
   "metadata": {},
   "outputs": [],
   "source": [
    "from pathlib import Path\n",
    "import xarray as xr\n",
    "import polars as pl\n"
   ]
  },
  {
   "cell_type": "code",
   "execution_count": 6,
   "metadata": {},
   "outputs": [
    {
     "name": "stdout",
     "output_type": "stream",
     "text": [
      "<class 'xarray.core.dataset.Dataset'>\n"
     ]
    }
   ],
   "source": [
    "filename = Path(r\"workshop_data/local_sea_surface_temperature.nc\")  #  r raw string to avoid issues caused by scape characters (not really needed here)\n",
    "ds = xr.open_dataset(filename)  # opens the data set as a multidimensional array\n",
    "print(type(ds))"
   ]
  },
  {
   "cell_type": "code",
   "execution_count": 4,
   "metadata": {},
   "outputs": [],
   "source": [
    "df = ds.to_dataframe()  # converts the dataset into a multidimensional array"
   ]
  },
  {
   "cell_type": "code",
   "execution_count": null,
   "metadata": {},
   "outputs": [],
   "source": [
    "print(df.info()) #notice the number of dimensions and size"
   ]
  },
  {
   "cell_type": "code",
   "execution_count": 7,
   "metadata": {},
   "outputs": [],
   "source": [
    "df = df.reset_index()  # resets the multidimensional index and turns it into 3 columns"
   ]
  },
  {
   "cell_type": "code",
   "execution_count": 8,
   "metadata": {},
   "outputs": [
    {
     "name": "stdout",
     "output_type": "stream",
     "text": [
      "<class 'pandas.core.frame.DataFrame'>\n",
      "RangeIndex: 772450560 entries, 0 to 772450559\n",
      "Data columns (total 4 columns):\n",
      " #   Column                   Dtype         \n",
      "---  ------                   -----         \n",
      " 0   lon                      float32       \n",
      " 1   lat                      float32       \n",
      " 2   time0                    datetime64[ns]\n",
      " 3   sea_surface_temperature  float32       \n",
      "dtypes: datetime64[ns](1), float32(3)\n",
      "memory usage: 14.4 GB\n",
      "None\n"
     ]
    }
   ],
   "source": [
    "print(df.info())  #notice the number of dimensions and size"
   ]
  },
  {
   "cell_type": "code",
   "execution_count": 10,
   "metadata": {},
   "outputs": [],
   "source": [
    "df[['lon', 'lat']] = df[['lon', 'lat']].astype('float16')  # changes the datatype for lat and lon to float 16"
   ]
  },
  {
   "cell_type": "code",
   "execution_count": 11,
   "metadata": {},
   "outputs": [
    {
     "name": "stdout",
     "output_type": "stream",
     "text": [
      "<class 'pandas.core.frame.DataFrame'>\n",
      "RangeIndex: 772450560 entries, 0 to 772450559\n",
      "Data columns (total 4 columns):\n",
      " #   Column                   Dtype         \n",
      "---  ------                   -----         \n",
      " 0   lon                      float16       \n",
      " 1   lat                      float16       \n",
      " 2   time0                    datetime64[ns]\n",
      " 3   sea_surface_temperature  float32       \n",
      "dtypes: datetime64[ns](1), float16(2), float32(1)\n",
      "memory usage: 11.5 GB\n",
      "None\n"
     ]
    }
   ],
   "source": [
    "print(df.info()) # notice the size"
   ]
  },
  {
   "cell_type": "code",
   "execution_count": null,
   "metadata": {},
   "outputs": [],
   "source": [
    "print(df['sea_surface_temperature'].mean())  # notice the execution time"
   ]
  },
  {
   "cell_type": "code",
   "execution_count": 12,
   "metadata": {},
   "outputs": [],
   "source": [
    "pl_df = pl.from_pandas(df)  # converts the dataframe to a polars dataframe"
   ]
  },
  {
   "cell_type": "code",
   "execution_count": 13,
   "metadata": {},
   "outputs": [
    {
     "name": "stdout",
     "output_type": "stream",
     "text": [
      "14.47793796658516\n",
      "shape: (5, 4)\n",
      "┌─────┬──────┬─────────────────────┬─────────────────────────┐\n",
      "│ lon ┆ lat  ┆ time0               ┆ sea_surface_temperature │\n",
      "│ --- ┆ ---  ┆ ---                 ┆ ---                     │\n",
      "│ f32 ┆ f32  ┆ datetime[ns]        ┆ f32                     │\n",
      "╞═════╪══════╪═════════════════════╪═════════════════════════╡\n",
      "│ 0.0 ┆ 90.0 ┆ 2022-01-01 00:00:00 ┆ 271.4375                │\n",
      "│ 0.0 ┆ 90.0 ┆ 2022-01-01 01:00:00 ┆ 271.4375                │\n",
      "│ 0.0 ┆ 90.0 ┆ 2022-01-01 02:00:00 ┆ 271.4375                │\n",
      "│ 0.0 ┆ 90.0 ┆ 2022-01-01 03:00:00 ┆ 271.4375                │\n",
      "│ 0.0 ┆ 90.0 ┆ 2022-01-01 04:00:00 ┆ 271.4375                │\n",
      "└─────┴──────┴─────────────────────┴─────────────────────────┘\n"
     ]
    }
   ],
   "source": [
    "print(pl_df.estimated_size('gb'))  # notice the size\n",
    "print(pl_df.head())  # notice the data types"
   ]
  },
  {
   "cell_type": "code",
   "execution_count": null,
   "metadata": {},
   "outputs": [],
   "source": [
    "print(pl_df['sea_surface_temperature'].mean())  # notice the execution time"
   ]
  }
 ],
 "metadata": {
  "kernelspec": {
   "display_name": "Python 3",
   "language": "python",
   "name": "python3"
  },
  "language_info": {
   "codemirror_mode": {
    "name": "ipython",
    "version": 3
   },
   "file_extension": ".py",
   "mimetype": "text/x-python",
   "name": "python",
   "nbconvert_exporter": "python",
   "pygments_lexer": "ipython3",
   "version": "3.12.0"
  }
 },
 "nbformat": 4,
 "nbformat_minor": 2
}
